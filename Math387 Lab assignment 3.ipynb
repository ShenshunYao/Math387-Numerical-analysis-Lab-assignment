{
 "cells": [
  {
   "cell_type": "code",
   "execution_count": 1,
   "metadata": {
    "collapsed": true
   },
   "outputs": [],
   "source": [
    "import math\n",
    "import numpy as np\n",
    "import scipy.special as scp\n",
    "import matplotlib.pyplot as plt"
   ]
  },
  {
   "cell_type": "markdown",
   "metadata": {},
   "source": [
    "# Math 387 Honours Numerical Analysis Lab Assignment 3\n",
    "## Shenshun Yao 260709204"
   ]
  },
  {
   "cell_type": "markdown",
   "metadata": {},
   "source": [
    "### Part 1. \n",
    "For Chebyshev Interpolation, the function\n",
    "$$\\lambda_n(x)=\\sum_{k=0}^n |\\phi_{n,k}(x)|$$\n",
    "take the maximum at $1$ and $-1$, we need to compute $\\phi_{n, k} \\ (x)$  in order to find the Lebesgue Constant."
   ]
  },
  {
   "cell_type": "markdown",
   "metadata": {},
   "source": [
    "First we need to create Chebyshev Nodes in the interval (-1,1);"
   ]
  },
  {
   "cell_type": "code",
   "execution_count": 2,
   "metadata": {
    "collapsed": true
   },
   "outputs": [],
   "source": [
    "def ChebyshevNodes(n):\n",
    "    k = np.array(range(1,n+1))\n",
    "    return np.cos((2*k-1)*np.pi/(2*n))"
   ]
  },
  {
   "cell_type": "markdown",
   "metadata": {},
   "source": [
    "Then we evaluate the Lagrange coefficients;"
   ]
  },
  {
   "cell_type": "code",
   "execution_count": 3,
   "metadata": {
    "collapsed": true
   },
   "outputs": [],
   "source": [
    "def b( k, x, nodes ):\n",
    "    x_k = nodes[k]\n",
    "    v = 1\n",
    "    for x_i in nodes:\n",
    "        if x_i != x_k:\n",
    "            v *= (x-x_i)/(x_k-x_i)\n",
    "    return v"
   ]
  },
  {
   "cell_type": "markdown",
   "metadata": {},
   "source": [
    "And now we can already construct the Lebesgue Constant $||L_n||$ against $n$, note that $\\lambda_n(x)=\\sum_{k=0}^n |\\phi_{n,k}(x)|$ attains its maximum at $1$ and $-1$."
   ]
  },
  {
   "cell_type": "code",
   "execution_count": 4,
   "metadata": {
    "collapsed": true
   },
   "outputs": [],
   "source": [
    "def Ln(n):\n",
    "    nodes = ChebyshevNodes(n)\n",
    "    L = 0\n",
    "    for i in range(n):\n",
    "        L += np.abs(b(i, -1, nodes))\n",
    "    return L"
   ]
  },
  {
   "cell_type": "markdown",
   "metadata": {},
   "source": [
    "Moreover we plot the Lebesgue Constants for Chebyshev Interpolation and show the property i.e. there exists a constant $C$ s.t.\n",
    "$$\\|L_n\\|=C\\log n.$$"
   ]
  },
  {
   "cell_type": "code",
   "execution_count": 5,
   "metadata": {},
   "outputs": [
    {
     "data": {
      "image/png": "[encoded data removed]",
      "text/plain": [
       "<matplotlib.figure.Figure at 0x1092f9588>"
      ]
     },
     "metadata": {},
     "output_type": "display_data"
    }
   ],
   "source": [
    "x = np.array(range(1,50))\n",
    "y = []\n",
    "for i in x:\n",
    "    y.append(Ln(i))\n",
    "\n",
    "fit = np.polyfit(np.log(x), y, deg=1)\n",
    "xdata = np.linspace(1, 50, 100)\n",
    "ydata = fit[1] + fit[0]*np.log(xdata)\n",
    "plt.plot(xdata, ydata, 'r')\n",
    "plt.scatter(x, y)\n",
    "plt.text(20,2,\"||Ln|| ~ \"+str(round(fit[0], 5))+\"log(x)\")\n",
    "plt.xlabel(\"n\")\n",
    "plt.ylabel(\"||Ln||\")\n",
    "plt.show()"
   ]
  },
  {
   "cell_type": "markdown",
   "metadata": {},
   "source": [
    "Therefore, $C \\approx 0.633$."
   ]
  },
  {
   "cell_type": "markdown",
   "metadata": {},
   "source": [
    "### Part 2\n",
    "For interpolation with equidistant nodes, the function $\\lambda_n$ as above achieves its maximum in the intervals $(x_0,x_1)$ and $(x_{n−1},x_n)$. So in order to compute the Lebesgue constant $‖L_n‖$, we need to locate one of the global maximums. Implement the Newton-Raphson method and apply it to the derivative $\\lambda_n'$ to complete this task. One possible initial guess is to start at the midpoint of the interval $(x_0,x_1)$. Note that the method converges to the desired zero of $\\lambda_n'$. we will Plot the graph $||L_n||$ against $n$, and experimentally confirm the law \n",
    "$$||L_n||\\sim2^n.$$"
   ]
  },
  {
   "cell_type": "markdown",
   "metadata": {},
   "source": [
    "First, as same as Part 1 we need to create equidistantnodes in the interval (-1,1);"
   ]
  },
  {
   "cell_type": "code",
   "execution_count": 6,
   "metadata": {
    "collapsed": true
   },
   "outputs": [],
   "source": [
    "def equinodes(n):\n",
    "    return np.linspace(-1,1,n)"
   ]
  },
  {
   "cell_type": "markdown",
   "metadata": {},
   "source": [
    "Then we compute the derivative of the Lagrange coefficirnts;\n",
    "$$\\phi_{n, k} \\ (x) = \\sum_{i = 0, i \\neq j}^{k}\\Big[\\frac{1}{x_j-x_i} \\prod_{m = 0, m \\neq i,j}^{k} \\frac{x-x_m}{x_j-x_m}\\Big]$$"
   ]
  },
  {
   "cell_type": "code",
   "execution_count": 7,
   "metadata": {
    "collapsed": true
   },
   "outputs": [],
   "source": [
    "def db(k, x, nodes):\n",
    "    den = 1\n",
    "    xj = []\n",
    "    for i in range(len(nodes)):\n",
    "        if i!=k:\n",
    "            xj.append(nodes[i])\n",
    "            den = den*(nodes[k]-nodes[i])\n",
    "    num = 0\n",
    "    for j in xj:\n",
    "        product = 1\n",
    "        for m in xj:\n",
    "            product = product * (x-m)\n",
    "        product = product/(x-j)\n",
    "        num = num + product\n",
    "    return num/den"
   ]
  },
  {
   "cell_type": "markdown",
   "metadata": {},
   "source": [
    "Here we imply Secant Method for root finding, the method converges to the desired zero of $\\lambda_n'$."
   ]
  },
  {
   "cell_type": "code",
   "execution_count": 8,
   "metadata": {
    "collapsed": true
   },
   "outputs": [],
   "source": [
    "#Secant method for root finding\n",
    "def secantApprox(nodes, x0, e):\n",
    "    while np.abs(dlgfunc(x0, nodes)) > e:\n",
    "        x0 = x0 - dlgfunc(x0, nodes)/((dlgfunc(x0+e**2, nodes)-dlgfunc(x0-e**2, nodes))/(2*e**2))\n",
    "    return x0"
   ]
  },
  {
   "cell_type": "markdown",
   "metadata": {},
   "source": [
    "Compute the sum of the Lagrange polynomials at x and its derivative;"
   ]
  },
  {
   "cell_type": "code",
   "execution_count": 9,
   "metadata": {
    "collapsed": true
   },
   "outputs": [],
   "source": [
    "def lgfunc(x, nodes):\n",
    "    lf = 0\n",
    "    for i in range(len(nodes)):\n",
    "        lf = lf+np.abs(b(i, x, nodes))\n",
    "    return lf\n",
    "\n",
    "def dlgfunc(x, nodes):\n",
    "    dlf = 0\n",
    "    for i in range(len(nodes)):\n",
    "        dlf = dlf+(b(i,x,nodes)/np.abs(b(i,x,nodes)))*db(i, x, nodes)\n",
    "    return dlf"
   ]
  },
  {
   "cell_type": "markdown",
   "metadata": {},
   "source": [
    "Now we do the approximation for the Lebesgue constant of Lagrange interpolation with equidistant nodes;"
   ]
  },
  {
   "cell_type": "code",
   "execution_count": 10,
   "metadata": {
    "collapsed": true
   },
   "outputs": [],
   "source": [
    "def Ln(n): \n",
    "    nodes = equinodes(n)\n",
    "    localmax = secantApprox(nodes, (4/5)*nodes[0] +(1/5)*nodes[1], 0.00002)\n",
    "    return lgfunc(localmax, nodes)"
   ]
  },
  {
   "cell_type": "markdown",
   "metadata": {},
   "source": [
    "Moreover we plot the Lebesgue Constants of Lagrange Interpolation with equidistant nodes and confirm the law \n",
    "\n",
    "$$||L_n||\\sim2^n.$$"
   ]
  },
  {
   "cell_type": "code",
   "execution_count": 11,
   "metadata": {},
   "outputs": [
    {
     "data": {
      "image/png": "[encoded data removed]",
      "text/plain": [
       "<matplotlib.figure.Figure at 0x10e60f710>"
      ]
     },
     "metadata": {},
     "output_type": "display_data"
    }
   ],
   "source": [
    "x = np.array(range(2, 21))\n",
    "y = []\n",
    "for i in x:\n",
    "    y.append(Ln(i))\n",
    "    \n",
    "fit = np.polyfit(2**x, y, deg=1)  \n",
    "xdata = np.linspace(2, 21, 100)\n",
    "ydata = fit[1] + fit[0]*(2**xdata)\n",
    "plt.plot(xdata, ydata,'r')\n",
    "plt.scatter(x, y)\n",
    "plt.text(7.5,6000,\"||Ln|| ~ (\"+str(round(fit[0], 5))+\")*2^n\")\n",
    "plt.xlabel(\"n\")\n",
    "plt.ylabel(\"||Ln||\")\n",
    "plt.show()"
   ]
  },
  {
   "cell_type": "markdown",
   "metadata": {},
   "source": [
    "### Part 3\n",
    "Now we compute the Lebesgue constants for Chebyshev truncation i.e. we need to evaluate the integrals \n",
    "\n",
    "$$\\|S_n\\| = \\int_0^\\pi \\Big|\\frac{\\sin((n+\\frac12)\\theta)}{2\\sin(\\frac12\\theta)}\\Big| d\\theta .$$\n",
    "\n",
    "Plotting the graph (of a function) of $‖S_n‖$ against $n$, experimentally determine the constant $C$ in the assumed dependence $‖S_n‖=C\\log⁡ n$"
   ]
  },
  {
   "cell_type": "markdown",
   "metadata": {},
   "source": [
    "First we create the qudrature nodes for the $n$-th Chebyshev truncation;"
   ]
  },
  {
   "cell_type": "code",
   "execution_count": 12,
   "metadata": {},
   "outputs": [],
   "source": [
    "def Quanodes(n):\n",
    "    nodes = [0.00000002] #the first node should be very closed to 0\n",
    "    k = 1\n",
    "    node = k*np.pi/((n+(1/2))*5)\n",
    "    \n",
    "    while node < np.pi:\n",
    "        nodes.append(node)\n",
    "        k = k+1\n",
    "        node = k*np.pi/((n+(1/2))*5)# here we choose that we have 5 nodes for each root\n",
    "        \n",
    "    nodes.append(np.pi)# the last node is pi\n",
    "    return nodes"
   ]
  },
  {
   "cell_type": "markdown",
   "metadata": {},
   "source": [
    "Now we compute the $n$-th Chebyshev Truncation at $\\theta$ and the Lebesgue constants for Chebyshev truncation i.e. the integral above"
   ]
  },
  {
   "cell_type": "code",
   "execution_count": 13,
   "metadata": {},
   "outputs": [],
   "source": [
    "def TrunCheby(n, theta):\n",
    "     return np.abs(np.sin((n+1/2)*theta)/(2*np.sin(theta/2)))\n",
    "        \n",
    "def LbTrunCheby(n):\n",
    "    nodes = Quanodes(n)\n",
    "    intg = 0\n",
    "    #we implement the composite trapezoidal rule now\n",
    "    for i in range(0, len(nodes)-1):\n",
    "        leftbound = TrunCheby(n, nodes[i])\n",
    "        rightbound = TrunCheby(n, nodes[i+1])\n",
    "        intg = intg+((leftbound+rightbound)/2)*(nodes[i+1]-nodes[i])\n",
    "    return intg"
   ]
  },
  {
   "cell_type": "markdown",
   "metadata": {},
   "source": [
    "We plot graph (of a function) of $‖S_n‖$ against $n$, experimentally determine the constant $C$ in the assumed dependence $‖S_n‖=C\\log⁡ n$;"
   ]
  },
  {
   "cell_type": "code",
   "execution_count": 14,
   "metadata": {},
   "outputs": [
    {
     "data": {
      "image/png": "[encoded data removed]",
      "text/plain": [
       "<matplotlib.figure.Figure at 0x10e5f3a20>"
      ]
     },
     "metadata": {},
     "output_type": "display_data"
    }
   ],
   "source": [
    "x = np.array(range(2, 21))\n",
    "y = []\n",
    "for i in x:\n",
    "    y.append(LbTrunCheby(i))\n",
    "\n",
    "fit = np.polyfit(np.log(x), y, deg=1)\n",
    "xdata = np.linspace(2, 20, 100)\n",
    "ydata = fit[1] + fit[0]*np.log(xdata)\n",
    "plt.plot(xdata, ydata, 'r')\n",
    "plt.scatter(x,y)\n",
    "plt.text(8,3,\"||Sn|| ~ \"+str(round(fit[0], 5))+\"log(x)\")\n",
    "plt.xlabel(\"n\")\n",
    "plt.ylabel(\"||Sn||\")\n",
    "plt.show()"
   ]
  },
  {
   "cell_type": "markdown",
   "metadata": {},
   "source": [
    "Therefore, $C \\approx 0.569$."
   ]
  },
  {
   "cell_type": "markdown",
   "metadata": {},
   "source": [
    "### Part 4\n",
    "Compute the Lebesgue constants for Legendre truncation. "
   ]
  },
  {
   "cell_type": "markdown",
   "metadata": {},
   "source": [
    "First we need the $a_k$ which appears on our Theory Assignment 4:\n",
    "\n",
    "$$ a_k = \\frac{2k+1}{2} = k+0.5$$"
   ]
  },
  {
   "cell_type": "code",
   "execution_count": 15,
   "metadata": {
    "collapsed": true
   },
   "outputs": [],
   "source": [
    "def a(k):\n",
    "    return k+1/2"
   ]
  },
  {
   "cell_type": "markdown",
   "metadata": {},
   "source": [
    "Then we need to evaluate the Legendre Polynomial at x:\n",
    "\n",
    "$$P_n(x) = 2^n \\sum_{k=0}^{n} x^k \\binom{n}{k} \\binom{\\frac{n+k-1}{2}}{n}$$"
   ]
  },
  {
   "cell_type": "code",
   "execution_count": 16,
   "metadata": {
    "collapsed": true
   },
   "outputs": [],
   "source": [
    "def lp(n, x):\n",
    "    lb = 0\n",
    "    for k in range(0, n+1):\n",
    "        lb = lb+(x**k)*scp.binom(n,k)*scp.binom((n+k-1)/2,n)\n",
    "    return lb*(2**n)"
   ]
  },
  {
   "cell_type": "markdown",
   "metadata": {},
   "source": [
    "Now we can compute  Lebesgue constants for Legendre truncation:\n",
    "$$\\|S_n\\| = \\int_{-1}^1 \\Big|\\sum_{k=0}^na_kP_k(x)\\Big| dx$$"
   ]
  },
  {
   "cell_type": "code",
   "execution_count": 17,
   "metadata": {
    "collapsed": true
   },
   "outputs": [],
   "source": [
    "def legfunc(n, x):\n",
    "    lf = 0\n",
    "    for k in range(0, n+1):\n",
    "        lf = lf + a(k)*lp(k,x)\n",
    "    return np.abs(lf)\n",
    "\n",
    "def lclegfunc(n):\n",
    "    nodes = np.linspace(-1,1,5*n)\n",
    "    intg = 0\n",
    "    for i in range(0, len(nodes)-1):\n",
    "        leftbound = legfunc(n, nodes[i])\n",
    "        rightbound = legfunc(n, nodes[i+1])\n",
    "        intg = intg+((leftbound+rightbound)/2)*(nodes[i+1]-nodes[i])\n",
    "    return intg"
   ]
  },
  {
   "cell_type": "markdown",
   "metadata": {},
   "source": [
    "Plotting the graph (of a function) of $‖S_n‖$ against $n$, experimentally determine the constant $C$ in the assumed dependence $\\|S_n\\|=C\\sqrt n.$"
   ]
  },
  {
   "cell_type": "code",
   "execution_count": 18,
   "metadata": {},
   "outputs": [
    {
     "data": {
      "image/png": "[encoded data removed]",
      "text/plain": [
       "<matplotlib.figure.Figure at 0x10e6869e8>"
      ]
     },
     "metadata": {},
     "output_type": "display_data"
    }
   ],
   "source": [
    "x = np.array(range(2, 21))\n",
    "y = []\n",
    "for i in x:\n",
    "    y.append(lclegfunc(i))\n",
    "\n",
    "fit = np.polyfit(np.sqrt(x), y, deg=1)\n",
    "xdata = np.linspace(2, 20, 100)\n",
    "ydata = fit[1] + fit[0]*np.sqrt(xdata)\n",
    "plt.plot(xdata, ydata, 'r')\n",
    "plt.scatter(x,y)\n",
    "plt.text(7.5,3,\"||Sn|| ~ \"+str(round(fit[0], 3))+\"sqrt(n)\")\n",
    "plt.xlabel(\"n\")\n",
    "plt.ylabel(\"||Sn||\")\n",
    "plt.show()"
   ]
  },
  {
   "cell_type": "markdown",
   "metadata": {},
   "source": [
    "Therefore, $C=1.736$."
   ]
  },
  {
   "cell_type": "markdown",
   "metadata": {},
   "source": [
    "### Part 5\n",
    "We want to show some evidence that for Newton-Cotes formulas, $||Q_n||$ gorws with $n$. Design and implement a procedure to compute the weights $\\omega_k$, and therefore the ``Lebesgue constant'' $‖Q_n‖$ for the Newton-Cotes formula with $n+1$ nodes, for the interval, say $[0,1]$. This can be done by a quadrature rule for the integrals \n",
    "\n",
    "$$\\|Q_n\\| = \\sum_{k=0}^n |\\omega_k| = \\sum_{k=0}^n \\Big| \\int_a^b\\phi_{n,k}(x) dx\\Big|.$$\n"
   ]
  },
  {
   "cell_type": "markdown",
   "metadata": {},
   "source": [
    "First, we approximate the integral of $k$-th Lagrange coefficients with  composite trapezoidal rule to get the weights;"
   ]
  },
  {
   "cell_type": "code",
   "execution_count": 19,
   "metadata": {
    "collapsed": true
   },
   "outputs": [],
   "source": [
    "def Qb(k, nodes):\n",
    "    intnodes = np.linspace(0,1,len(nodes)*2)\n",
    "    int = 0\n",
    "    for i in range(0, len(intnodes)-1):\n",
    "        leftbound = b(k,intnodes[i],nodes)\n",
    "        rightbound = b(k,intnodes[i+1],nodes)\n",
    "        int = int+((leftbound+rightbound)/2)*(intnodes[i+1]-intnodes[i])\n",
    "    return int"
   ]
  },
  {
   "cell_type": "markdown",
   "metadata": {},
   "source": [
    "Then we sum up the weights to get $||Q_n||$;"
   ]
  },
  {
   "cell_type": "code",
   "execution_count": 20,
   "metadata": {
    "collapsed": true
   },
   "outputs": [],
   "source": [
    "def Q_n(n):\n",
    "    nodes = np.linspace(0,1,n+1)\n",
    "    Sum = 0\n",
    "    for k in range(0, n+1):\n",
    "        Sum = Sum+np.abs(Qb(k, nodes))\n",
    "    return Sum"
   ]
  },
  {
   "cell_type": "markdown",
   "metadata": {},
   "source": [
    "Plotting the graph (of a function) of $‖Q_n‖$ against $n$, make a guess on the functional dependence of $‖Q_n‖$ on $n$;"
   ]
  },
  {
   "cell_type": "code",
   "execution_count": 21,
   "metadata": {},
   "outputs": [
    {
     "data": {
      "image/png": "[encoded data removed]",
      "text/plain": [
       "<matplotlib.figure.Figure at 0x10e6bd588>"
      ]
     },
     "metadata": {},
     "output_type": "display_data"
    }
   ],
   "source": [
    "x = np.array(range(2, 31))\n",
    "y = []\n",
    "for i in x:\n",
    "    y.append(Q_n(i))\n",
    "\n",
    "fit = np.polyfit(2**x, y, deg=1)\n",
    "xdata = np.linspace(2, 30, 100)\n",
    "ydata = fit[1] + fit[0]*(2**xdata)\n",
    "plt.plot(xdata, ydata, 'r')\n",
    "plt.scatter(x,y)\n",
    "plt.text(5,60000,\"y ~ (\"+str(round(fit[0], 7))+\")2^n\")\n",
    "plt.xlabel(\"n\")\n",
    "plt.ylabel(\"||Qn||\")\n",
    "plt.show()"
   ]
  },
  {
   "cell_type": "markdown",
   "metadata": {},
   "source": [
    "The guess on the functional dependence of $‖Q_n‖$ on $n$ is exponential."
   ]
  },
  {
   "cell_type": "code",
   "execution_count": null,
   "metadata": {
    "collapsed": true
   },
   "outputs": [],
   "source": []
  }
 ],
 "metadata": {
  "kernelspec": {
   "display_name": "Python 3",
   "language": "python",
   "name": "python3"
  },
  "language_info": {
   "codemirror_mode": {
    "name": "ipython",
    "version": 3
   },
   "file_extension": ".py",
   "mimetype": "text/x-python",
   "name": "python",
   "nbconvert_exporter": "python",
   "pygments_lexer": "ipython3",
   "version": "3.6.3"
  }
 },
 "nbformat": 4,
 "nbformat_minor": 2
}
