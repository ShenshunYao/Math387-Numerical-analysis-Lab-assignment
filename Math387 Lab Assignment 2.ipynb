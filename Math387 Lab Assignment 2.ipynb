{
 "cells": [
  {
   "cell_type": "markdown",
   "metadata": {},
   "source": [
    "# Math387 Lab Assignment 2\n",
    "## An experimental study of the growth factor for Gaussian elimination with partial pivoting. \n",
    "### Modified by Shenshun Yao; Student ID:260709204\n"
   ]
  },
  {
   "cell_type": "code",
   "execution_count": 1,
   "metadata": {
    "collapsed": true
   },
   "outputs": [],
   "source": [
    "import numpy as np\n",
    "import matplotlib.pyplot as plt\n",
    "import random as rn"
   ]
  },
  {
   "cell_type": "markdown",
   "metadata": {},
   "source": [
    "## (1). Generating a random Matrix\n",
    "Write a function that takes $n$ as its parameter and generates an $n*n$ matrix, whose entries are random numbers uniformly distributed in $[-1,1]$.\n",
    "\n",
    "In order to simplify the calculation, we assume $n \\in N^+$ and $n \\in [1,100]$."
   ]
  },
  {
   "cell_type": "code",
   "execution_count": 2,
   "metadata": {},
   "outputs": [
    {
     "name": "stdout",
     "output_type": "stream",
     "text": [
      "42\n",
      "[[ 0.84895089 -0.88721527 -0.5602413  ...,  0.68818138 -0.94789817\n",
      "  -0.38172943]\n",
      " [-0.61529925  0.93609265  0.28847505 ..., -0.05312876  0.62817115\n",
      "   0.67247973]\n",
      " [-0.45503973  0.60566135  0.13934135 ...,  0.24050922 -0.73042921\n",
      "  -0.1305973 ]\n",
      " ..., \n",
      " [-0.62732186  0.87297037 -0.09699509 ..., -0.30163411 -0.066924\n",
      "   0.35217183]\n",
      " [-0.87263025  0.34967535  0.25735797 ...,  0.84290766  0.7165184\n",
      "  -0.37959991]\n",
      " [-0.62032188  0.38950811 -0.81740023 ..., -0.73203763  0.43415682\n",
      "  -0.03022189]]\n"
     ]
    }
   ],
   "source": [
    "n=rn.randint(1,100)  \n",
    "A=np.random.uniform(-1,1,(n,n))\n",
    "print(n)\n",
    "print(A)"
   ]
  },
  {
   "cell_type": "markdown",
   "metadata": {},
   "source": [
    "## (2). Implement Gaussian elimination with partial pivoting"
   ]
  },
  {
   "cell_type": "code",
   "execution_count": 3,
   "metadata": {},
   "outputs": [
    {
     "name": "stdout",
     "output_type": "stream",
     "text": [
      "[ 1.  0.  0.  4.]\n",
      "[[  1.00000000e+00   2.00000000e+00   1.00000000e+00   0.00000000e+00]\n",
      " [  0.00000000e+00   1.00000000e+00   2.00000000e+00   1.00000000e+00]\n",
      " [  0.00000000e+00   0.00000000e+00   1.00000000e+02   2.00000000e+02]\n",
      " [  0.00000000e+00   0.00000000e+00   0.00000000e+00  -5.00000000e-02]]\n",
      "[[  1.00000000e+00]\n",
      " [  4.00000000e+00]\n",
      " [  8.00000000e+02]\n",
      " [ -2.00000000e-01]]\n"
     ]
    }
   ],
   "source": [
    "import numpy as np\n",
    "\n",
    "def GEPP(A, b, doPricing = True):\n",
    "    '''\n",
    "    Gaussian elimination with partial pivoting:\n",
    "    \n",
    "    input: A is an n x n numpy matrix, b is an n x 1 numpy array\n",
    "    output: x is the solution of Ax=b,\n",
    "    \n",
    "    with the entries permuted in accordance with the pivoting done by the GEPP algorithm.\n",
    "    \n",
    "    post-condition: A and b have been modified, A becomes an upper triangular matrix.\n",
    "    '''\n",
    "    n = len(A)\n",
    "    if b.size != n:\n",
    "        raise ValueError(\"Invalid argument: incompatible sizes between\"+\n",
    "                         \"A & b.\", b.size, n)\n",
    "    # k represents the current pivot row. Since GE traverses the matrix in the \n",
    "    # upper right triangle, we also use k for indicating the k-th diagonal \n",
    "    # column index.\n",
    "    \n",
    "    # Elimination\n",
    "    for k in range(n-1):\n",
    "        if doPricing:\n",
    "            # Pivot\n",
    "            maxindex = abs(A[k:,k]).argmax() + k\n",
    "            if A[maxindex, k] == 0:\n",
    "                raise ValueError(\"Matrix is singular.\")\n",
    "            # Swap\n",
    "            if maxindex != k:\n",
    "                A[[k,maxindex]] = A[[maxindex, k]]\n",
    "                b[[k,maxindex]] = b[[maxindex, k]]\n",
    "        else:\n",
    "            if A[k, k] == 0:\n",
    "                raise ValueError(\"Pivot element is zero. Try setting doPricing to True.\")\n",
    "        #Eliminate\n",
    "        for row in range(k+1, n):\n",
    "            multiplier = A[row,k]/A[k,k]\n",
    "            A[row, k:] = A[row, k:] - multiplier*A[k, k:]\n",
    "            b[row] = b[row] - multiplier*b[k]\n",
    "    # Back Substitution\n",
    "    x = np.zeros(n)\n",
    "    for k in range(n-1, -1, -1):\n",
    "        x[k] = (b[k] - np.dot(A[k,k+1:],x[k+1:]))/A[k,k]\n",
    "    return x\n",
    "\n",
    "if __name__ == \"__main__\":\n",
    "    A = np.array([[0.02,0.01,0.,-0.],[1.,2.,1.,0.],[0.,1.,2.,1.],[0.,0.,100.,200.]])\n",
    "    b =  np.array([[0.02],[1.],[4.],[800.]])\n",
    "    print (GEPP(A,b))\n",
    "    print (A)\n",
    "    print (b)\n",
    "    "
   ]
  },
  {
   "cell_type": "code",
   "execution_count": null,
   "metadata": {
    "collapsed": true
   },
   "outputs": [],
   "source": []
  },
  {
   "cell_type": "code",
   "execution_count": null,
   "metadata": {
    "collapsed": true
   },
   "outputs": [],
   "source": []
  }
 ],
 "metadata": {
  "kernelspec": {
   "display_name": "Python 3",
   "language": "python",
   "name": "python3"
  },
  "language_info": {
   "codemirror_mode": {
    "name": "ipython",
    "version": 3
   },
   "file_extension": ".py",
   "mimetype": "text/x-python",
   "name": "python",
   "nbconvert_exporter": "python",
   "pygments_lexer": "ipython3",
   "version": "3.6.3"
  }
 },
 "nbformat": 4,
 "nbformat_minor": 2
}
